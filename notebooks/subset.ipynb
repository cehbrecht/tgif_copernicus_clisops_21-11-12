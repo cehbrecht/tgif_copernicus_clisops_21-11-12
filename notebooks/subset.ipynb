{
 "cells": [
  {
   "cell_type": "markdown",
   "metadata": {},
   "source": [
    "# Subsetting\n",
    "\n",
    "The Python package [clisops](https://github.com/roocs/clisops) provides operators like `subset` and `regrid` based on [xarray](http://xarray.pydata.org/en/stable/) on climate model data (CMIP5, CMIP6, CORDEX).\n",
    "\n",
    "You can install it with *conda*:\n",
    "```\n",
    "conda install -c conda-forge clisops\n",
    "```\n",
    "\n",
    "This example shows the usage of the `subset` operator with `time` and `area` parameters."
   ]
  },
  {
   "cell_type": "markdown",
   "metadata": {},
   "source": [
    "## Init Clisops"
   ]
  },
  {
   "cell_type": "code",
   "execution_count": null,
   "metadata": {},
   "outputs": [],
   "source": [
    "from clisops.ops.subset import subset\n",
    "import xarray as xr"
   ]
  },
  {
   "cell_type": "code",
   "execution_count": null,
   "metadata": {},
   "outputs": [],
   "source": [
    "## Turn off warnings?\n",
    "import warnings\n",
    "warnings.simplefilter(\"ignore\")"
   ]
  },
  {
   "cell_type": "markdown",
   "metadata": {},
   "source": [
    "## Get CMIP6 data for testing"
   ]
  },
  {
   "cell_type": "code",
   "execution_count": null,
   "metadata": {},
   "outputs": [],
   "source": [
    "# Download from Copernicus data node\n",
    "!wget -N https://data.mips.copernicus-climate.eu/thredds/fileServer/esg_c3s-cmip6/CMIP/MPI-M/MPI-ESM1-2-HR/historical/r1i1p1f1/Amon/tas/gn/v20190710/tas_Amon_MPI-ESM1-2-HR_historical_r1i1p1f1_gn_201001-201412.nc"
   ]
  },
  {
   "cell_type": "code",
   "execution_count": null,
   "metadata": {},
   "outputs": [],
   "source": [
    "ds = xr.open_mfdataset('tas_Amon_MPI-ESM1-2-HR_historical_r1i1p1f1_gn_201001-201412.nc', use_cftime=True, combine=\"by_coords\")"
   ]
  },
  {
   "cell_type": "markdown",
   "metadata": {},
   "source": [
    "## Subset by time and area\n",
    "\n",
    "Provide output as `xarray` object."
   ]
  },
  {
   "cell_type": "code",
   "execution_count": null,
   "metadata": {},
   "outputs": [],
   "source": [
    "outputs = subset(\n",
    "        ds=ds,\n",
    "        time=\"2010-01-01T00:00:00/2010-12-31T00:00:00\",\n",
    "        area=(-40, -40, 70, 70),\n",
    "        output_type=\"xarray\",\n",
    "    )\n",
    "\n",
    "print(f\"There is only {len(outputs)} output.\")\n",
    "outputs[0]"
   ]
  },
  {
   "cell_type": "code",
   "execution_count": null,
   "metadata": {},
   "outputs": [],
   "source": [
    "outputs[0].tas.isel(time=0).plot()"
   ]
  },
  {
   "cell_type": "markdown",
   "metadata": {},
   "source": [
    "## Subset: Output to netCDF with standard namer\n",
    "\n",
    "There is only one output as the file size is under the memory limit (1 GB) so does not need to be split.\n",
    "This example uses the standard namer which names output files according to the input file and how it has been subsetted."
   ]
  },
  {
   "cell_type": "code",
   "execution_count": null,
   "metadata": {},
   "outputs": [],
   "source": [
    "outputs = subset(\n",
    "        ds=ds,\n",
    "        time=\"2010-01-01T00:00:00/2010-12-31T00:00:00\",\n",
    "        area=(-40, -40, 70, 70),\n",
    "        output_type=\"nc\",\n",
    "        # output_dir=\".\",\n",
    "        # split_method=\"time:auto\",\n",
    "        file_namer=\"standard\"\n",
    "    )\n",
    "outputs"
   ]
  },
  {
   "cell_type": "code",
   "execution_count": null,
   "metadata": {},
   "outputs": [],
   "source": [
    "# To open the file\n",
    "\n",
    "subset_ds = xr.open_mfdataset(outputs)\n",
    "subset_ds"
   ]
  },
  {
   "cell_type": "code",
   "execution_count": null,
   "metadata": {},
   "outputs": [],
   "source": [
    "subset_ds.tas.isel(time=0).plot()"
   ]
  }
 ],
 "metadata": {
  "kernelspec": {
   "display_name": "Python 3 (ipykernel)",
   "language": "python",
   "name": "python3"
  },
  "language_info": {
   "codemirror_mode": {
    "name": "ipython",
    "version": 3
   },
   "file_extension": ".py",
   "mimetype": "text/x-python",
   "name": "python",
   "nbconvert_exporter": "python",
   "pygments_lexer": "ipython3",
   "version": "3.8.12"
  }
 },
 "nbformat": 4,
 "nbformat_minor": 4
}
